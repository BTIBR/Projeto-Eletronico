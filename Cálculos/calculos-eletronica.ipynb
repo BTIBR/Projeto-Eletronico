{
 "cells": [
  {
   "cell_type": "markdown",
   "id": "suburban-wallpaper",
   "metadata": {},
   "source": [
    "## LM331 - Voltage to Frequency Converter\n",
    "\n",
    "![image](img/lm331.PNG)"
   ]
  },
  {
   "cell_type": "code",
   "execution_count": 15,
   "id": "fantastic-preference",
   "metadata": {},
   "outputs": [
    {
     "data": {
      "image/png": "[encoded data removed]",
      "text/plain": [
       "<Figure size 432x288 with 1 Axes>"
      ]
     },
     "metadata": {
      "needs_background": "light"
     },
     "output_type": "display_data"
    }
   ],
   "source": [
    "Rs = 2800          # RV1\n",
    "Rl = 100047        # R4 + R6\n",
    "Rt = 5600          # R2\n",
    "Ct = 0.00000001    # C4\n",
    "\n",
    "import matplotlib.pyplot as plt\n",
    "freq  = []\n",
    "volts = []\n",
    "maxV  = 5\n",
    "x = minV = 0.05\n",
    "points = 100\n",
    "\n",
    "for i in range(points + 1):\n",
    "    f = (x/2.09)*(Rs/Rl)*(1/(Rt*Ct))\n",
    "    volts.append(x)\n",
    "    freq.append(f)\n",
    "    x += (maxV-minV)/points\n",
    "\n",
    "plt.plot(volts, freq, 'r')\n",
    "plt.xlabel('Tensão [V]')\n",
    "plt.ylabel('Frequência [Hz]')\n",
    "plt.show()"
   ]
  },
  {
   "cell_type": "markdown",
   "id": "excessive-virtue",
   "metadata": {},
   "source": [
    "## Cálculo Resistência do DigiPot\n",
    "\n",
    "![image](img/X9C103S.PNG)"
   ]
  },
  {
   "cell_type": "code",
   "execution_count": 16,
   "id": "alternative-bankruptcy",
   "metadata": {},
   "outputs": [
    {
     "name": "stdout",
     "output_type": "stream",
     "text": [
      "4950\n"
     ]
    }
   ],
   "source": [
    "Counts  = 50\n",
    "DigiPot = 10000-(Counts*101)\n",
    "print(DigiPot)"
   ]
  },
  {
   "cell_type": "markdown",
   "id": "missing-marshall",
   "metadata": {},
   "source": [
    "## Divisor resistivo Vin LM331\n",
    "\n",
    "<img src=\"img/DigiPot.PNG\" width=\"600\"/>"
   ]
  },
  {
   "cell_type": "code",
   "execution_count": 17,
   "id": "asian-liver",
   "metadata": {},
   "outputs": [
    {
     "data": {
      "image/png": "[encoded data removed]",
      "text/plain": [
       "<Figure size 432x288 with 1 Axes>"
      ]
     },
     "metadata": {
      "needs_background": "light"
     },
     "output_type": "display_data"
    }
   ],
   "source": [
    "def digiPot(_counts):\n",
    "    Vin     = 5                      # Tensão de entrada do divisor\n",
    "    R5      = 2700                   # Resistor fixo (R5)\n",
    "    DigiPot = 10000-(_counts*101)    # Resistência do DigiPot\n",
    "    Vout = Vin * (R5/(DigiPot+R5))   # Tensão de saída do divisor\n",
    "    return Vout\n",
    "\n",
    "cts = []\n",
    "ten = []\n",
    "for i in range(0,99):\n",
    "    cts.append(i)\n",
    "    ten.append(digiPot(i))\n",
    "\n",
    "plt.plot(cts, ten, 'r')\n",
    "plt.xlabel('Counts')\n",
    "plt.ylabel('Tensão [V]')\n",
    "plt.show()"
   ]
  },
  {
   "cell_type": "markdown",
   "id": "accessory-selling",
   "metadata": {},
   "source": [
    "### Cálculo Inverso: Counts em função da tensão"
   ]
  },
  {
   "cell_type": "code",
   "execution_count": 21,
   "id": "double-bennett",
   "metadata": {},
   "outputs": [
    {
     "name": "stdout",
     "output_type": "stream",
     "text": [
      "DigiPot: 1800.0 ohms\n",
      "Counts : 81\n"
     ]
    }
   ],
   "source": [
    "Vout = 3        # Tensão desejada de saída do divisor\n",
    "\n",
    "R5   = 2700     # Resistor fixo (R5)\n",
    "Vin  = 5        # Tensão de entrada do divisor\n",
    "\n",
    "DigiPot = (R5 * (Vin-Vout)) / Vout\n",
    "Counts = int((10000 - DigiPot) / 101)\n",
    "\n",
    "print('DigiPot:', DigiPot, 'ohms')\n",
    "print('Counts :', Counts)"
   ]
  },
  {
   "cell_type": "markdown",
   "id": "stupid-marks",
   "metadata": {},
   "source": [
    "### Cálculo da rotação do motor"
   ]
  },
  {
   "cell_type": "code",
   "execution_count": 38,
   "id": "adjusted-mailman",
   "metadata": {},
   "outputs": [
    {
     "name": "stdout",
     "output_type": "stream",
     "text": [
      "Frequência: 1 Hz\n",
      "Velocidade: 1.8 °/s ou 0.3 RPM\n"
     ]
    }
   ],
   "source": [
    "Stepping = 1/1\n",
    "Freq = 1\n",
    "Velo = (360/(200/Stepping))*Freq\n",
    "RPM  = (Velo/360)*60\n",
    "\n",
    "print('Frequência:', Freq, 'Hz')\n",
    "print('Velocidade:', Velo, '°/s ou', RPM, 'RPM')"
   ]
  },
  {
   "cell_type": "markdown",
   "id": "caroline-ordinance",
   "metadata": {},
   "source": [
    "## Modelagem: Counts do DigiPot em função da Velocidade desejada\n",
    "\n",
    "### 1.0 Equação da Velocidade"
   ]
  },
  {
   "cell_type": "code",
   "execution_count": 55,
   "id": "general-wichita",
   "metadata": {},
   "outputs": [
    {
     "name": "stdout",
     "output_type": "stream",
     "text": [
      "Velocidade: 50.30008757022188 °/s\n"
     ]
    }
   ],
   "source": [
    "# Parâmetros\n",
    "Stepping = 1/32          # 1/32 microstepping\n",
    "Rs       = 2800          # RV1\n",
    "Rl       = 100047.0      # R4 + R6\n",
    "Rt       = 5600.0        # R2\n",
    "Ct       = 0.00000001    # C4\n",
    "Vin      = 5.0           # [V]\n",
    "R5       = 2700.0        # R5\n",
    "\n",
    "# Counts do DigiPot\n",
    "Counts   = 90            # counts\n",
    "\n",
    "# Equações parciais\n",
    "# DigiPot = 10000-(Counts*101)\n",
    "# CMIN    = Vin*(R5/(DigiPot+R5))\n",
    "# Freq    = (CMIN/2.09)*(Rs/Rl)*(1/(Rt*Ct))\n",
    "# Velo    = (360/(200/Stepping))*Freq\n",
    "\n",
    "# Equação geral\n",
    "Velo = (360/(200/Stepping))*(((Vin*(R5/((10000-(Counts*101))+R5)))/2.09)*(Rs/Rl)*(1/(Rt*Ct)))\n",
    "\n",
    "print('Velocidade:', Velo, '°/s')"
   ]
  },
  {
   "cell_type": "markdown",
   "id": "spiritual-mistress",
   "metadata": {},
   "source": [
    "### 2.0 Equação Generalizada"
   ]
  },
  {
   "cell_type": "code",
   "execution_count": 56,
   "id": "stuck-prevention",
   "metadata": {},
   "outputs": [
    {
     "name": "stdout",
     "output_type": "stream",
     "text": [
      "Equação Generalizada: 0 = -Velo + 0.861244019138756*R5*Rs*Stepping*Vin/(Ct*Rl*Rt*(-101*Counts + R5 + 10000))\n"
     ]
    }
   ],
   "source": [
    "import sympy as sym\n",
    "\n",
    "_Stepping = sym.Symbol('Stepping')\n",
    "_Rs       = sym.Symbol('Rs')\n",
    "_Rl       = sym.Symbol('Rl')\n",
    "_Rt       = sym.Symbol('Rt')\n",
    "_Ct       = sym.Symbol('Ct')\n",
    "_Vin      = sym.Symbol('Vin')\n",
    "_R5       = sym.Symbol('R5')\n",
    "_Velo     = sym.Symbol('Velo')\n",
    "_Counts   = sym.Symbol('Counts')\n",
    "\n",
    "Eq = ((360/(200/_Stepping))*(((_Vin*(_R5/((10000-(_Counts*101))+_R5)))/2.09)*(_Rs/_Rl)*(1/(_Rt*_Ct))))-_Velo\n",
    "print('Equação Generalizada: 0 =', Eq)"
   ]
  },
  {
   "cell_type": "markdown",
   "id": "occasional-martin",
   "metadata": {},
   "source": [
    "### 3.0 Resolução - Counts em função da velocidade"
   ]
  },
  {
   "cell_type": "code",
   "execution_count": 58,
   "id": "embedded-gibraltar",
   "metadata": {},
   "outputs": [
    {
     "name": "stdout",
     "output_type": "stream",
     "text": [
      "Counts = 0.0099009900990099*R5 + 99.009900990099 - 0.00852716850632432*R5*Rs*Stepping*Vin/(Ct*Rl*Rt*Velo)\n",
      "Counts = 90\n"
     ]
    }
   ],
   "source": [
    "# Parâmetros\n",
    "Stepping = 1/32          # 1/32 microstepping\n",
    "Rs       = 2800.0        # RV1\n",
    "Rl       = 100047.0      # R4 + R6\n",
    "Rt       = 5600.0        # R2\n",
    "Ct       = 0.00000001    # C4\n",
    "Vin      = 5.0           # [V]\n",
    "R5       = 2700.0        # R5\n",
    "\n",
    "# Setpoint de Velocidade\n",
    "Velo     = 50            # [°/s]\n",
    "\n",
    "# Extração da equação de Counts\n",
    "EqCounts = sym.solve(Eq, _Counts)\n",
    "print('Counts =', EqCounts[0])\n",
    "\n",
    "# Resolução da equação\n",
    "Counts = round(sym.solve(Eq.subs([(_Stepping,Stepping),(_Rs,Rs),(_Rl,Rl),(_Rt,Rt),(_Ct,Ct),(_Vin,Vin),(_R5,R5),(_Velo,Velo)]), _Counts)[0])\n",
    "print('Counts =', Counts)"
   ]
  },
  {
   "cell_type": "code",
   "execution_count": null,
   "id": "southeast-proportion",
   "metadata": {},
   "outputs": [],
   "source": []
  }
 ],
 "metadata": {
  "kernelspec": {
   "display_name": "Python 3",
   "language": "python",
   "name": "python3"
  },
  "language_info": {
   "codemirror_mode": {
    "name": "ipython",
    "version": 3
   },
   "file_extension": ".py",
   "mimetype": "text/x-python",
   "name": "python",
   "nbconvert_exporter": "python",
   "pygments_lexer": "ipython3",
   "version": "3.9.2"
  }
 },
 "nbformat": 4,
 "nbformat_minor": 5
}
